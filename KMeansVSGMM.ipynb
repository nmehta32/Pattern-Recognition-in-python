{
  "nbformat": 4,
  "nbformat_minor": 0,
  "metadata": {
    "colab": {
      "name": "KMeansVSGMM.ipynb",
      "provenance": [],
      "collapsed_sections": [],
      "authorship_tag": "ABX9TyONRbJ29pIgRf5cEq+52QfV",
      "include_colab_link": true
    },
    "kernelspec": {
      "name": "python3",
      "display_name": "Python 3"
    },
    "language_info": {
      "name": "python"
    }
  },
  "cells": [
    {
      "cell_type": "markdown",
      "metadata": {
        "id": "view-in-github",
        "colab_type": "text"
      },
      "source": [
        "<a href=\"https://colab.research.google.com/github/nmehta32/Pattern-Recognition-in-python/blob/main/KMeansVSGMM.ipynb\" target=\"_parent\"><img src=\"https://colab.research.google.com/assets/colab-badge.svg\" alt=\"Open In Colab\"/></a>"
      ]
    },
    {
      "cell_type": "code",
      "execution_count": 49,
      "metadata": {
        "colab": {
          "base_uri": "https://localhost:8080/",
          "height": 206
        },
        "id": "wC0gAihqony9",
        "outputId": "f7fe1593-cdff-44af-c5a0-f34f7dd3c719"
      },
      "outputs": [
        {
          "output_type": "execute_result",
          "data": {
            "text/plain": [
              "         X        Y\n",
              "0 -30.7097 -24.1774\n",
              "1 -27.3607 -23.5482\n",
              "2 -30.0516 -27.6619\n",
              "3 -31.6089 -27.0362\n",
              "4 -37.9886 -24.5215"
            ],
            "text/html": [
              "\n",
              "  <div id=\"df-57606dae-01af-4388-b169-2442d416e836\">\n",
              "    <div class=\"colab-df-container\">\n",
              "      <div>\n",
              "<style scoped>\n",
              "    .dataframe tbody tr th:only-of-type {\n",
              "        vertical-align: middle;\n",
              "    }\n",
              "\n",
              "    .dataframe tbody tr th {\n",
              "        vertical-align: top;\n",
              "    }\n",
              "\n",
              "    .dataframe thead th {\n",
              "        text-align: right;\n",
              "    }\n",
              "</style>\n",
              "<table border=\"1\" class=\"dataframe\">\n",
              "  <thead>\n",
              "    <tr style=\"text-align: right;\">\n",
              "      <th></th>\n",
              "      <th>X</th>\n",
              "      <th>Y</th>\n",
              "    </tr>\n",
              "  </thead>\n",
              "  <tbody>\n",
              "    <tr>\n",
              "      <th>0</th>\n",
              "      <td>-30.7097</td>\n",
              "      <td>-24.1774</td>\n",
              "    </tr>\n",
              "    <tr>\n",
              "      <th>1</th>\n",
              "      <td>-27.3607</td>\n",
              "      <td>-23.5482</td>\n",
              "    </tr>\n",
              "    <tr>\n",
              "      <th>2</th>\n",
              "      <td>-30.0516</td>\n",
              "      <td>-27.6619</td>\n",
              "    </tr>\n",
              "    <tr>\n",
              "      <th>3</th>\n",
              "      <td>-31.6089</td>\n",
              "      <td>-27.0362</td>\n",
              "    </tr>\n",
              "    <tr>\n",
              "      <th>4</th>\n",
              "      <td>-37.9886</td>\n",
              "      <td>-24.5215</td>\n",
              "    </tr>\n",
              "  </tbody>\n",
              "</table>\n",
              "</div>\n",
              "      <button class=\"colab-df-convert\" onclick=\"convertToInteractive('df-57606dae-01af-4388-b169-2442d416e836')\"\n",
              "              title=\"Convert this dataframe to an interactive table.\"\n",
              "              style=\"display:none;\">\n",
              "        \n",
              "  <svg xmlns=\"http://www.w3.org/2000/svg\" height=\"24px\"viewBox=\"0 0 24 24\"\n",
              "       width=\"24px\">\n",
              "    <path d=\"M0 0h24v24H0V0z\" fill=\"none\"/>\n",
              "    <path d=\"M18.56 5.44l.94 2.06.94-2.06 2.06-.94-2.06-.94-.94-2.06-.94 2.06-2.06.94zm-11 1L8.5 8.5l.94-2.06 2.06-.94-2.06-.94L8.5 2.5l-.94 2.06-2.06.94zm10 10l.94 2.06.94-2.06 2.06-.94-2.06-.94-.94-2.06-.94 2.06-2.06.94z\"/><path d=\"M17.41 7.96l-1.37-1.37c-.4-.4-.92-.59-1.43-.59-.52 0-1.04.2-1.43.59L10.3 9.45l-7.72 7.72c-.78.78-.78 2.05 0 2.83L4 21.41c.39.39.9.59 1.41.59.51 0 1.02-.2 1.41-.59l7.78-7.78 2.81-2.81c.8-.78.8-2.07 0-2.86zM5.41 20L4 18.59l7.72-7.72 1.47 1.35L5.41 20z\"/>\n",
              "  </svg>\n",
              "      </button>\n",
              "      \n",
              "  <style>\n",
              "    .colab-df-container {\n",
              "      display:flex;\n",
              "      flex-wrap:wrap;\n",
              "      gap: 12px;\n",
              "    }\n",
              "\n",
              "    .colab-df-convert {\n",
              "      background-color: #E8F0FE;\n",
              "      border: none;\n",
              "      border-radius: 50%;\n",
              "      cursor: pointer;\n",
              "      display: none;\n",
              "      fill: #1967D2;\n",
              "      height: 32px;\n",
              "      padding: 0 0 0 0;\n",
              "      width: 32px;\n",
              "    }\n",
              "\n",
              "    .colab-df-convert:hover {\n",
              "      background-color: #E2EBFA;\n",
              "      box-shadow: 0px 1px 2px rgba(60, 64, 67, 0.3), 0px 1px 3px 1px rgba(60, 64, 67, 0.15);\n",
              "      fill: #174EA6;\n",
              "    }\n",
              "\n",
              "    [theme=dark] .colab-df-convert {\n",
              "      background-color: #3B4455;\n",
              "      fill: #D2E3FC;\n",
              "    }\n",
              "\n",
              "    [theme=dark] .colab-df-convert:hover {\n",
              "      background-color: #434B5C;\n",
              "      box-shadow: 0px 1px 3px 1px rgba(0, 0, 0, 0.15);\n",
              "      filter: drop-shadow(0px 1px 2px rgba(0, 0, 0, 0.3));\n",
              "      fill: #FFFFFF;\n",
              "    }\n",
              "  </style>\n",
              "\n",
              "      <script>\n",
              "        const buttonEl =\n",
              "          document.querySelector('#df-57606dae-01af-4388-b169-2442d416e836 button.colab-df-convert');\n",
              "        buttonEl.style.display =\n",
              "          google.colab.kernel.accessAllowed ? 'block' : 'none';\n",
              "\n",
              "        async function convertToInteractive(key) {\n",
              "          const element = document.querySelector('#df-57606dae-01af-4388-b169-2442d416e836');\n",
              "          const dataTable =\n",
              "            await google.colab.kernel.invokeFunction('convertToInteractive',\n",
              "                                                     [key], {});\n",
              "          if (!dataTable) return;\n",
              "\n",
              "          const docLinkHtml = 'Like what you see? Visit the ' +\n",
              "            '<a target=\"_blank\" href=https://colab.research.google.com/notebooks/data_table.ipynb>data table notebook</a>'\n",
              "            + ' to learn more about interactive tables.';\n",
              "          element.innerHTML = '';\n",
              "          dataTable['output_type'] = 'display_data';\n",
              "          await google.colab.output.renderOutput(dataTable, element);\n",
              "          const docLink = document.createElement('div');\n",
              "          docLink.innerHTML = docLinkHtml;\n",
              "          element.appendChild(docLink);\n",
              "        }\n",
              "      </script>\n",
              "    </div>\n",
              "  </div>\n",
              "  "
            ]
          },
          "metadata": {},
          "execution_count": 49
        }
      ],
      "source": [
        "import pandas as pd\n",
        "from sklearn.cluster import KMeans\n",
        "import matplotlib.pyplot as plt\n",
        "\n",
        "\n",
        "p = pd.read_excel('/content/Q1-Data(1).xlsx')\n",
        "p.head()\n"
      ]
    },
    {
      "cell_type": "code",
      "source": [
        "plt.scatter(\n",
        "   p['X'], p['Y'],\n",
        "   c='white', marker='o',\n",
        "   edgecolor='black', s=50\n",
        ")\n",
        "plt.show()\n",
        "\n",
        "#5 cluster Centers\n",
        "\n",
        "\n",
        "km = KMeans(\n",
        "    n_clusters=5, init='random',\n",
        "    n_init=10, max_iter=300, \n",
        "    tol=1e-04, random_state=0\n",
        ")\n",
        "y_km = km.fit(p)\n",
        "\n",
        "print(y_km.cluster_centers_)\n"
      ],
      "metadata": {
        "id": "PvsAHsYrrPDX",
        "colab": {
          "base_uri": "https://localhost:8080/",
          "height": 352
        },
        "outputId": "0e05045b-bbfe-4980-b71f-e9f762f9dc46"
      },
      "execution_count": 50,
      "outputs": [
        {
          "output_type": "display_data",
          "data": {
            "text/plain": [
              "<Figure size 504x252 with 1 Axes>"
            ],
            "image/png": "[encoded data removed]"
          },
          "metadata": {
            "needs_background": "light"
          }
        },
        {
          "output_type": "stream",
          "name": "stdout",
          "text": [
            "[[-30.41868947 -25.57280526]\n",
            " [ 33.73770667  -0.60638333]\n",
            " [  3.34338961  34.16328961]\n",
            " [-16.8944127   34.99264762]\n",
            " [ 35.10477273  24.50536364]]\n"
          ]
        }
      ]
    },
    {
      "cell_type": "code",
      "source": [
        "cc = y_km.cluster_centers_\n",
        "\n",
        "plt.scatter(\n",
        "   p['X'], p['Y'],\n",
        "   c='white', marker='o',\n",
        "   edgecolor='black', s=50\n",
        ")\n",
        "\n",
        "plt.rcParams[\"figure.figsize\"] = [7.00, 3.50]\n",
        "plt.rcParams[\"figure.autolayout\"] = True\n",
        "for i in range(len(cc)):\n",
        "  plt.plot(cc[i][0], cc[i][1], marker=\"o\", markersize=7, markeredgecolor=\"red\", markerfacecolor=\"blue\")\n",
        "plt.show()\n"
      ],
      "metadata": {
        "id": "2wy8a8yaqk4Y",
        "colab": {
          "base_uri": "https://localhost:8080/",
          "height": 261
        },
        "outputId": "0650a847-4bd5-4c41-e1a6-5ef49c153297"
      },
      "execution_count": 51,
      "outputs": [
        {
          "output_type": "display_data",
          "data": {
            "text/plain": [
              "<Figure size 504x252 with 1 Axes>"
            ],
            "image/png": "[encoded data removed]"
          },
          "metadata": {
            "needs_background": "light"
          }
        }
      ]
    },
    {
      "cell_type": "code",
      "source": [
        "##Implemeing Gausian Mixture modeling\n",
        "from sklearn.mixture import GaussianMixture\n",
        "from scipy.optimize import curve_fit\n",
        "\n",
        "GMM = GaussianMixture(n_components=5, random_state=0).fit(p)\n",
        "\n",
        "print(GMM.means_)"
      ],
      "metadata": {
        "id": "BA9_GaVfwwCC",
        "colab": {
          "base_uri": "https://localhost:8080/"
        },
        "outputId": "1015c41a-e656-4bfd-a50d-3f04f0e89ee4"
      },
      "execution_count": 52,
      "outputs": [
        {
          "output_type": "stream",
          "name": "stdout",
          "text": [
            "[[ 33.73770667  -0.60638333]\n",
            " [  3.34338961  34.16328961]\n",
            " [-30.41868947 -25.57280526]\n",
            " [-16.8944127   34.99264762]\n",
            " [ 35.10477273  24.50536364]]\n"
          ]
        }
      ]
    },
    {
      "cell_type": "code",
      "source": [
        "## q2  K means manually\n",
        "import numpy as np\n",
        "import random\n",
        "\n",
        "data = np.array([[1 ,5],[2, 4],[1, 4],[4, 0],[5 ,1],[3 ,-1]])\n",
        "\n",
        "data = pd.DataFrame({'X': data[:, 0], 'Y': data[:, 1]})\n",
        "\n",
        "plt.scatter(\n",
        "   data['X'], data['Y'],\n",
        "   c='white', marker='o',\n",
        "   edgecolor='black', s=50\n",
        ")\n",
        "plt.show()\n",
        "\n",
        "## K = 2\n",
        "def initialize_centroids(k, data):\n",
        "\n",
        "    n_dims = data.shape[1]\n",
        "    centroid_min = data.min().min()\n",
        "    centroid_max = data.max().max()\n",
        "    centroids = []\n",
        "\n",
        "    for centroid in range(k):\n",
        "        centroid = np.random.uniform(centroid_min, centroid_max, n_dims)\n",
        "        centroids.append(centroid)\n",
        "\n",
        "    centroids = pd.DataFrame(centroids, columns = data.columns)\n",
        "\n",
        "    return centroids\n",
        "\n",
        "centroids = initialize_centroids(2, data)\n",
        "centroids\n",
        "def calculate_error(a,b):\n",
        "    '''\n",
        "    Given two Numpy Arrays, calculates the root of the sum of squared errores.\n",
        "    '''\n",
        "    error = np.square(np.sum((a-b)**2))\n",
        "\n",
        "    return error\n",
        "\n",
        "errors = np.array([])\n",
        "for centroid in range(centroids.shape[0]):\n",
        "    error = calculate_error(centroids.iloc[centroid, :2], data.iloc[0,:2])\n",
        "    errors = np.append(errors, error)\n",
        "\n",
        "errors\n",
        "\n",
        "np.where(errors == np.amin(errors))[0].tolist()[0]\n",
        "\n",
        "def assign_centroid(data, centroids):\n",
        "    '''\n",
        "    Receives a dataframe of data and centroids and returns a list assigning each observation a centroid.\n",
        "    data: a dataframe with all data that will be used.\n",
        "    centroids: a dataframe with the centroids. For assignment the index will be used.\n",
        "    '''\n",
        "\n",
        "    n_observations = data.shape[0]\n",
        "    centroid_assign = []\n",
        "    centroid_errors = []\n",
        "    k = centroids.shape[0]\n",
        "\n",
        "\n",
        "    for observation in range(n_observations):\n",
        "\n",
        "        # Calculate the errror\n",
        "        errors = np.array([])\n",
        "        for centroid in range(k):\n",
        "            error = calculate_error(centroids.iloc[centroid, :2], data.iloc[observation,:2])\n",
        "            errors = np.append(errors, error)\n",
        "\n",
        "        # Calculate closest centroid & error \n",
        "        closest_centroid =  np.where(errors == np.amin(errors))[0].tolist()[0]\n",
        "        centroid_error = np.amin(errors)\n",
        "\n",
        "        # Assign values to lists\n",
        "        centroid_assign.append(closest_centroid)\n",
        "        centroid_errors.append(centroid_error)\n",
        "\n",
        "    return (centroid_assign,centroid_errors)\n",
        "\n",
        "data['centroid'], data['error'] = assign_centroid(data.iloc[:,:2] ,centroids)\n",
        "data[['centroid', 'error']].head()\n",
        "\n",
        "\n",
        "colors = {0:'red', 1:'blue', 2:'green'}\n",
        "\n",
        "plt.scatter(data.iloc[:,0], data.iloc[:,1],  marker = 'o', c = data['centroid'].apply(lambda x: colors[x]), alpha = 0.5)\n",
        "plt.scatter(centroids.iloc[:,0], centroids.iloc[:,1],  marker = 'o', s=300, \n",
        "           c = centroids.index.map(lambda x: colors[x]))"
      ],
      "metadata": {
        "colab": {
          "base_uri": "https://localhost:8080/",
          "height": 523
        },
        "id": "45a5i0XLPX6E",
        "outputId": "09976513-83f2-4872-d75b-2db850899ff6"
      },
      "execution_count": 53,
      "outputs": [
        {
          "output_type": "display_data",
          "data": {
            "text/plain": [
              "<Figure size 504x252 with 1 Axes>"
            ],
            "image/png": "[encoded data removed]"
          },
          "metadata": {
            "needs_background": "light"
          }
        },
        {
          "output_type": "execute_result",
          "data": {
            "text/plain": [
              "<matplotlib.collections.PathCollection at 0x7faca0c1f150>"
            ]
          },
          "metadata": {},
          "execution_count": 53
        },
        {
          "output_type": "display_data",
          "data": {
            "text/plain": [
              "<Figure size 504x252 with 1 Axes>"
            ],
            "image/png": "[encoded data removed]"
          },
          "metadata": {
            "needs_background": "light"
          }
        }
      ]
    },
    {
      "cell_type": "code",
      "source": [
        "data['error'].sum()\n",
        "\n",
        "data_columns = ['X','Y']\n",
        "\n",
        "centroids = data.groupby('centroid').agg('mean').loc[:,data_columns].reset_index(drop = True)\n",
        "centroids"
      ],
      "metadata": {
        "colab": {
          "base_uri": "https://localhost:8080/",
          "height": 112
        },
        "id": "RCeQghKtjZXE",
        "outputId": "0312da28-4e9f-4b25-b9d0-902be85b1f61"
      },
      "execution_count": 47,
      "outputs": [
        {
          "output_type": "execute_result",
          "data": {
            "text/plain": [
              "          X         Y\n",
              "0  1.333333  4.333333\n",
              "1  4.000000  0.000000"
            ],
            "text/html": [
              "\n",
              "  <div id=\"df-c7906d8b-8a69-4a15-83c6-d85df4f4d910\">\n",
              "    <div class=\"colab-df-container\">\n",
              "      <div>\n",
              "<style scoped>\n",
              "    .dataframe tbody tr th:only-of-type {\n",
              "        vertical-align: middle;\n",
              "    }\n",
              "\n",
              "    .dataframe tbody tr th {\n",
              "        vertical-align: top;\n",
              "    }\n",
              "\n",
              "    .dataframe thead th {\n",
              "        text-align: right;\n",
              "    }\n",
              "</style>\n",
              "<table border=\"1\" class=\"dataframe\">\n",
              "  <thead>\n",
              "    <tr style=\"text-align: right;\">\n",
              "      <th></th>\n",
              "      <th>X</th>\n",
              "      <th>Y</th>\n",
              "    </tr>\n",
              "  </thead>\n",
              "  <tbody>\n",
              "    <tr>\n",
              "      <th>0</th>\n",
              "      <td>1.333333</td>\n",
              "      <td>4.333333</td>\n",
              "    </tr>\n",
              "    <tr>\n",
              "      <th>1</th>\n",
              "      <td>4.000000</td>\n",
              "      <td>0.000000</td>\n",
              "    </tr>\n",
              "  </tbody>\n",
              "</table>\n",
              "</div>\n",
              "      <button class=\"colab-df-convert\" onclick=\"convertToInteractive('df-c7906d8b-8a69-4a15-83c6-d85df4f4d910')\"\n",
              "              title=\"Convert this dataframe to an interactive table.\"\n",
              "              style=\"display:none;\">\n",
              "        \n",
              "  <svg xmlns=\"http://www.w3.org/2000/svg\" height=\"24px\"viewBox=\"0 0 24 24\"\n",
              "       width=\"24px\">\n",
              "    <path d=\"M0 0h24v24H0V0z\" fill=\"none\"/>\n",
              "    <path d=\"M18.56 5.44l.94 2.06.94-2.06 2.06-.94-2.06-.94-.94-2.06-.94 2.06-2.06.94zm-11 1L8.5 8.5l.94-2.06 2.06-.94-2.06-.94L8.5 2.5l-.94 2.06-2.06.94zm10 10l.94 2.06.94-2.06 2.06-.94-2.06-.94-.94-2.06-.94 2.06-2.06.94z\"/><path d=\"M17.41 7.96l-1.37-1.37c-.4-.4-.92-.59-1.43-.59-.52 0-1.04.2-1.43.59L10.3 9.45l-7.72 7.72c-.78.78-.78 2.05 0 2.83L4 21.41c.39.39.9.59 1.41.59.51 0 1.02-.2 1.41-.59l7.78-7.78 2.81-2.81c.8-.78.8-2.07 0-2.86zM5.41 20L4 18.59l7.72-7.72 1.47 1.35L5.41 20z\"/>\n",
              "  </svg>\n",
              "      </button>\n",
              "      \n",
              "  <style>\n",
              "    .colab-df-container {\n",
              "      display:flex;\n",
              "      flex-wrap:wrap;\n",
              "      gap: 12px;\n",
              "    }\n",
              "\n",
              "    .colab-df-convert {\n",
              "      background-color: #E8F0FE;\n",
              "      border: none;\n",
              "      border-radius: 50%;\n",
              "      cursor: pointer;\n",
              "      display: none;\n",
              "      fill: #1967D2;\n",
              "      height: 32px;\n",
              "      padding: 0 0 0 0;\n",
              "      width: 32px;\n",
              "    }\n",
              "\n",
              "    .colab-df-convert:hover {\n",
              "      background-color: #E2EBFA;\n",
              "      box-shadow: 0px 1px 2px rgba(60, 64, 67, 0.3), 0px 1px 3px 1px rgba(60, 64, 67, 0.15);\n",
              "      fill: #174EA6;\n",
              "    }\n",
              "\n",
              "    [theme=dark] .colab-df-convert {\n",
              "      background-color: #3B4455;\n",
              "      fill: #D2E3FC;\n",
              "    }\n",
              "\n",
              "    [theme=dark] .colab-df-convert:hover {\n",
              "      background-color: #434B5C;\n",
              "      box-shadow: 0px 1px 3px 1px rgba(0, 0, 0, 0.15);\n",
              "      filter: drop-shadow(0px 1px 2px rgba(0, 0, 0, 0.3));\n",
              "      fill: #FFFFFF;\n",
              "    }\n",
              "  </style>\n",
              "\n",
              "      <script>\n",
              "        const buttonEl =\n",
              "          document.querySelector('#df-c7906d8b-8a69-4a15-83c6-d85df4f4d910 button.colab-df-convert');\n",
              "        buttonEl.style.display =\n",
              "          google.colab.kernel.accessAllowed ? 'block' : 'none';\n",
              "\n",
              "        async function convertToInteractive(key) {\n",
              "          const element = document.querySelector('#df-c7906d8b-8a69-4a15-83c6-d85df4f4d910');\n",
              "          const dataTable =\n",
              "            await google.colab.kernel.invokeFunction('convertToInteractive',\n",
              "                                                     [key], {});\n",
              "          if (!dataTable) return;\n",
              "\n",
              "          const docLinkHtml = 'Like what you see? Visit the ' +\n",
              "            '<a target=\"_blank\" href=https://colab.research.google.com/notebooks/data_table.ipynb>data table notebook</a>'\n",
              "            + ' to learn more about interactive tables.';\n",
              "          element.innerHTML = '';\n",
              "          dataTable['output_type'] = 'display_data';\n",
              "          await google.colab.output.renderOutput(dataTable, element);\n",
              "          const docLink = document.createElement('div');\n",
              "          docLink.innerHTML = docLinkHtml;\n",
              "          element.appendChild(docLink);\n",
              "        }\n",
              "      </script>\n",
              "    </div>\n",
              "  </div>\n",
              "  "
            ]
          },
          "metadata": {},
          "execution_count": 47
        }
      ]
    },
    {
      "cell_type": "code",
      "source": [
        "plt.scatter(data.iloc[:,0], data.iloc[:,1],  marker = 'o', c = data['centroid'].apply(lambda x: colors[x]), alpha = 0.5)\n",
        "plt.scatter(centroids.iloc[:,0], centroids.iloc[:,1],  marker = 'o', s=300, \n",
        "           c = centroids.index.map(lambda x: colors[x]))"
      ],
      "metadata": {
        "colab": {
          "base_uri": "https://localhost:8080/",
          "height": 279
        },
        "id": "ZlbdIyPikBOY",
        "outputId": "4f1b3377-19c2-4a1b-d9b8-932fb557834b"
      },
      "execution_count": 48,
      "outputs": [
        {
          "output_type": "execute_result",
          "data": {
            "text/plain": [
              "<matplotlib.collections.PathCollection at 0x7faca0b40e50>"
            ]
          },
          "metadata": {},
          "execution_count": 48
        },
        {
          "output_type": "display_data",
          "data": {
            "text/plain": [
              "<Figure size 504x252 with 1 Axes>"
            ],
            "image/png": "[encoded data removed]"
          },
          "metadata": {
            "needs_background": "light"
          }
        }
      ]
    },
    {
      "cell_type": "code",
      "source": [
        "def knn(data, k):\n",
        "    '''\n",
        "    Given a dataset and number of clusters, it clusterizes the data. \n",
        "    data: a DataFrame with all information necessary\n",
        "    k: number of clusters to create\n",
        "    '''\n",
        "\n",
        "    # Initialize centroids and error\n",
        "    centroids = initialize_centroids(k, data)\n",
        "    error = []\n",
        "    compr = True\n",
        "    i = 0\n",
        "\n",
        "    while(compr):\n",
        "        # Obtain centroids and error\n",
        "        data['centroid'], iter_error = assign_centroid(data,centroids)\n",
        "        error.append(sum(iter_error))\n",
        "        # Recalculate centroids\n",
        "        centroids = data.groupby('centroid').agg('mean').reset_index(drop = True)\n",
        "\n",
        "        # Check if the error has decreased\n",
        "        if(len(error)<2):\n",
        "            compr = True\n",
        "        else:\n",
        "            if(round(error[i],3) !=  round(error[i-1],3)):\n",
        "                compr = True\n",
        "            else:\n",
        "                compr = False\n",
        "        i = i + 1 \n",
        "\n",
        "    data['centroid'], iter_error = assign_centroid(data,centroids)\n",
        "    centroids = data.groupby('centroid').agg('mean').reset_index(drop = True)\n",
        "    return (data['centroid'], iter_error, centroids)\n",
        "\n",
        "data['centroid'], _, centroids =  knn(data.drop(['centroid','error'], axis = 1),3)\n",
        "data['centroid'].head()        "
      ],
      "metadata": {
        "colab": {
          "base_uri": "https://localhost:8080/"
        },
        "id": "ODrx7ZWvlc1O",
        "outputId": "9f1a0a9c-2c32-47e9-e65e-1b5e13f50485"
      },
      "execution_count": 54,
      "outputs": [
        {
          "output_type": "execute_result",
          "data": {
            "text/plain": [
              "0    1\n",
              "1    1\n",
              "2    1\n",
              "3    0\n",
              "4    0\n",
              "Name: centroid, dtype: int64"
            ]
          },
          "metadata": {},
          "execution_count": 54
        }
      ]
    }
  ]
}